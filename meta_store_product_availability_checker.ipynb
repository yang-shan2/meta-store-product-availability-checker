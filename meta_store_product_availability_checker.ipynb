{
 "cells": [
  {
   "cell_type": "markdown",
   "metadata": {},
   "source": [
    "v1 meta store product availability checker"
   ]
  },
  {
   "cell_type": "code",
   "execution_count": 4,
   "metadata": {},
   "outputs": [
    {
     "name": "stdout",
     "output_type": "stream",
     "text": [
      "['quest 3 standard facial interface` | meta | meta store    free delivery        extended returns‡        warranty  skip to main contentmeta questray-ban | metaapps and gamesabout metasupportoverviewtech specsfaq  add to bag`$34.99 usd']\n",
      "['quest 3 standard facial interface` | meta | meta store    free delivery        extended returns‡        warranty  skip to main contentmeta questray-ban | metaapps and gamesabout metasupportoverviewtech specsfaq  add to bag`$34.99 usd', 'quest 3 carrying case` | meta | meta store    free delivery        extended returns‡        warranty  skip to main contentmeta questray-ban | metaapps and gamesabout metasupportoverviewtech specsfaqreviews  add to bag`$69.99 usd']\n",
      "['quest 3 standard facial interface` | meta | meta store    free delivery        extended returns‡        warranty  skip to main contentmeta questray-ban | metaapps and gamesabout metasupportoverviewtech specsfaq  add to bag`$34.99 usd', 'quest 3 carrying case` | meta | meta store    free delivery        extended returns‡        warranty  skip to main contentmeta questray-ban | metaapps and gamesabout metasupportoverviewtech specsfaqreviews  add to bag`$69.99 usd', 'quest 3 elite strap with battery` | meta | meta store    free delivery        extended returns‡        warranty  skip to main contentmeta questray-ban | metaapps and gamesabout metasupportoverviewtech specsfaqreviews  notify me`$129.99 usd']\n",
      "['quest 3 standard facial interface` | meta | meta store    free delivery        extended returns‡        warranty  skip to main contentmeta questray-ban | metaapps and gamesabout metasupportoverviewtech specsfaq  add to bag`$34.99 usd', 'quest 3 carrying case` | meta | meta store    free delivery        extended returns‡        warranty  skip to main contentmeta questray-ban | metaapps and gamesabout metasupportoverviewtech specsfaqreviews  add to bag`$69.99 usd', 'quest 3 elite strap with battery` | meta | meta store    free delivery        extended returns‡        warranty  skip to main contentmeta questray-ban | metaapps and gamesabout metasupportoverviewtech specsfaqreviews  notify me`$129.99 usd', 'quest 2 elite strap with battery` | meta quest | meta store    free delivery        extended returns‡        warranty  skip to main contentmeta questray-ban | metaabout metasupportoverviewtech specs  add to bag`$119.99 usd']\n",
      "['quest 3 standard facial interface` | meta | meta store    free delivery        extended returns‡        warranty  skip to main contentmeta questray-ban | metaapps and gamesabout metasupportoverviewtech specsfaq  add to bag`$34.99 usd', 'quest 3 carrying case` | meta | meta store    free delivery        extended returns‡        warranty  skip to main contentmeta questray-ban | metaapps and gamesabout metasupportoverviewtech specsfaqreviews  add to bag`$69.99 usd', 'quest 3 elite strap with battery` | meta | meta store    free delivery        extended returns‡        warranty  skip to main contentmeta questray-ban | metaapps and gamesabout metasupportoverviewtech specsfaqreviews  notify me`$129.99 usd', 'quest 2 elite strap with battery` | meta quest | meta store    free delivery        extended returns‡        warranty  skip to main contentmeta questray-ban | metaabout metasupportoverviewtech specs  add to bag`$119.99 usd', 'quest pro carrying case` | vr storage | meta quest | meta store    free delivery        extended returns‡        warranty  skip to main contentmeta questray-ban | metaapps and gamesabout metasupportoverviewtech specs  add to bag`$119.95 usd']\n",
      "['quest 3 standard facial interface` | meta | meta store    free delivery        extended returns‡        warranty  skip to main contentmeta questray-ban | metaapps and gamesabout metasupportoverviewtech specsfaq  add to bag`$34.99 usd', 'quest 3 carrying case` | meta | meta store    free delivery        extended returns‡        warranty  skip to main contentmeta questray-ban | metaapps and gamesabout metasupportoverviewtech specsfaqreviews  add to bag`$69.99 usd', 'quest 3 elite strap with battery` | meta | meta store    free delivery        extended returns‡        warranty  skip to main contentmeta questray-ban | metaapps and gamesabout metasupportoverviewtech specsfaqreviews  notify me`$129.99 usd', 'quest 2 elite strap with battery` | meta quest | meta store    free delivery        extended returns‡        warranty  skip to main contentmeta questray-ban | metaabout metasupportoverviewtech specs  add to bag`$119.99 usd', 'quest pro carrying case` | vr storage | meta quest | meta store    free delivery        extended returns‡        warranty  skip to main contentmeta questray-ban | metaapps and gamesabout metasupportoverviewtech specs  add to bag`$119.95 usd', 'logitech g pro gaming headset` for meta quest 2 | meta quest | meta store    free delivery        extended returns‡        warranty  skip to main contentmeta questray-ban | metaapps and gamesabout metasupportoverviewtech specs  add to bag`$100 usd']\n",
      "['quest 3 standard facial interface` | meta | meta store    free delivery        extended returns‡        warranty  skip to main contentmeta questray-ban | metaapps and gamesabout metasupportoverviewtech specsfaq  add to bag`$34.99 usd', 'quest 3 carrying case` | meta | meta store    free delivery        extended returns‡        warranty  skip to main contentmeta questray-ban | metaapps and gamesabout metasupportoverviewtech specsfaqreviews  add to bag`$69.99 usd', 'quest 3 elite strap with battery` | meta | meta store    free delivery        extended returns‡        warranty  skip to main contentmeta questray-ban | metaapps and gamesabout metasupportoverviewtech specsfaqreviews  notify me`$129.99 usd', 'quest 2 elite strap with battery` | meta quest | meta store    free delivery        extended returns‡        warranty  skip to main contentmeta questray-ban | metaabout metasupportoverviewtech specs  add to bag`$119.99 usd', 'quest pro carrying case` | vr storage | meta quest | meta store    free delivery        extended returns‡        warranty  skip to main contentmeta questray-ban | metaapps and gamesabout metasupportoverviewtech specs  add to bag`$119.95 usd', 'logitech g pro gaming headset` for meta quest 2 | meta quest | meta store    free delivery        extended returns‡        warranty  skip to main contentmeta questray-ban | metaapps and gamesabout metasupportoverviewtech specs  add to bag`$100 usd']\n"
     ]
    }
   ],
   "source": [
    "##############\n",
    "# import modules\n",
    "##############\n",
    "from bs4 import BeautifulSoup\n",
    "from selenium import webdriver\n",
    "from selenium.webdriver.chrome.options import Options\n",
    "import re\n",
    "import pandas as pd\n",
    "\n",
    "cleaned = []\n",
    "\n",
    "# missing metadata:\n",
    "# Meta Quest Touch Pro Controllers\n",
    "# Meta Quest 3 Charging Dock\n",
    "#\n",
    "# missing 'with' makes scraping hard\n",
    "\n",
    "# verified working\n",
    "# product_list = ['quest 3 standard facial interface',\n",
    "#                 'quest 3 carrying case',\n",
    "#                 'quest 3 elite strap battery',\n",
    "#                 'quest 2 elite strap battery',\n",
    "#                 'quest pro carry case',\n",
    "#                 'quest 2 logitech pro gaming headset']\n",
    "\n",
    "# product_list = ['quest 3 carrying case']\n",
    "\n",
    "\n",
    "for product in product_list:\n",
    "    url_completion = product.replace(' ', '-')\n",
    "    url = 'https://www.meta.com/quest/accessories/{}'.format(url_completion)\n",
    "\n",
    "    # bypass non-valid Chrome header by launching Chrome, per https://stackoverflow.com/questions/53918187/python-requests-to-continue-your-browser-has-to-accept-cookies-and-has-to-hav\n",
    "    driver = webdriver.Chrome()\n",
    "    driver.get(url)\n",
    "    soup = BeautifulSoup(driver.page_source, 'lxml')\n",
    "    text = soup.get_text().lower().replace('\\n', '')\n",
    "\n",
    "    # account for different product names in metadata\n",
    "    # product is the url name\n",
    "    # product_pattern is the product metadata name\n",
    "    if product == 'quest 3 elite strap battery':\n",
    "        product_pattern = 'quest 3 elite strap'\n",
    "    elif product == 'quest 2 elite strap battery':\n",
    "        product_pattern = 'quest 2 elite strap'\n",
    "    elif product == 'quest pro carry case':\n",
    "        product_pattern = 'quest pro carrying case'\n",
    "    elif product == 'quest 2 logitech pro gaming headset':\n",
    "        product_pattern = 'logitech g pro gaming headset for meta quest 2'\n",
    "    else:\n",
    "        product_pattern = product\n",
    "\n",
    "    # print(product_pattern)\n",
    "    pattern = '{} (.*?) usd'.format(re.escape(product_pattern))\n",
    "    # print(pattern)\n",
    "    # print(text)\n",
    "    match = re.search(pattern, text)\n",
    "    match_text = match.group()\n",
    "\n",
    "    # column separator prep for pandas table\n",
    "    replacement_key = product.split()[-1]\n",
    "    if '$' in match_text:\n",
    "        cleaned.append(match_text.replace('$', '`$').replace(\n",
    "            replacement_key, replacement_key + '`'))\n",
    "    print(cleaned)\n",
    "\n",
    "print('done')\n",
    "print(cleaned)"
   ]
  },
  {
   "cell_type": "code",
   "execution_count": null,
   "metadata": {},
   "outputs": [],
   "source": [
    "##############\n",
    "# import modules\n",
    "##############\n",
    "from bs4 import BeautifulSoup\n",
    "from selenium import webdriver\n",
    "from selenium.webdriver.chrome.options import Options\n",
    "import re\n",
    "import pandas as pd\n",
    "\n",
    "cleaned = []\n",
    "url = 'https://www.meta.com/quest/accessories/quest-2-logitech-pro-gaming-headset/'\n",
    "\n",
    "driver = webdriver.Chrome()  # bypass non-valid Chrome header by launching Chrome, per https://stackoverflow.com/questions/53918187/python-requests-to-continue-your-browser-has-to-accept-cookies-and-has-to-hav\n",
    "driver.get(url)\n",
    "soup = BeautifulSoup(driver.page_source, 'lxml')\n",
    "text = soup.get_text().lower()\n",
    "\n",
    "print(text)"
   ]
  }
 ],
 "metadata": {
  "kernelspec": {
   "display_name": "Python 3",
   "language": "python",
   "name": "python3"
  },
  "language_info": {
   "codemirror_mode": {
    "name": "ipython",
    "version": 3
   },
   "file_extension": ".py",
   "mimetype": "text/x-python",
   "name": "python",
   "nbconvert_exporter": "python",
   "pygments_lexer": "ipython3",
   "version": "3.11.3"
  }
 },
 "nbformat": 4,
 "nbformat_minor": 2
}
